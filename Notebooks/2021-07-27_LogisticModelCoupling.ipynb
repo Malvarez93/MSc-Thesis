{
 "cells": [
  {
   "cell_type": "code",
   "execution_count": 76,
   "metadata": {},
   "outputs": [
    {
     "data": {
      "text/html": [
       "<div>\n",
       "<style scoped>\n",
       "    .dataframe tbody tr th:only-of-type {\n",
       "        vertical-align: middle;\n",
       "    }\n",
       "\n",
       "    .dataframe tbody tr th {\n",
       "        vertical-align: top;\n",
       "    }\n",
       "\n",
       "    .dataframe thead th {\n",
       "        text-align: right;\n",
       "    }\n",
       "</style>\n",
       "<table border=\"1\" class=\"dataframe\">\n",
       "  <thead>\n",
       "    <tr style=\"text-align: right;\">\n",
       "      <th></th>\n",
       "      <th>lat</th>\n",
       "      <th>long</th>\n",
       "      <th>elevation</th>\n",
       "      <th>slope</th>\n",
       "      <th>aspect</th>\n",
       "      <th>curv_plan</th>\n",
       "      <th>curv_prof</th>\n",
       "      <th>facc</th>\n",
       "      <th>twi</th>\n",
       "      <th>soil</th>\n",
       "      <th>lulc</th>\n",
       "      <th>rain_ant</th>\n",
       "      <th>rain_event</th>\n",
       "      <th>pof_event</th>\n",
       "      <th>pof_dry</th>\n",
       "      <th>pof_sat</th>\n",
       "      <th>response</th>\n",
       "    </tr>\n",
       "  </thead>\n",
       "  <tbody>\n",
       "    <tr>\n",
       "      <th>0</th>\n",
       "      <td>4738872.5</td>\n",
       "      <td>311597.5</td>\n",
       "      <td>790.80</td>\n",
       "      <td>13.145604</td>\n",
       "      <td>327.05750</td>\n",
       "      <td>0.025769</td>\n",
       "      <td>-0.010359</td>\n",
       "      <td>1.397940</td>\n",
       "      <td>4.673251</td>\n",
       "      <td>2.0</td>\n",
       "      <td>3.0</td>\n",
       "      <td>0.5</td>\n",
       "      <td>49.0</td>\n",
       "      <td>0.0000</td>\n",
       "      <td>0.0000</td>\n",
       "      <td>1.0000</td>\n",
       "      <td>1.0</td>\n",
       "    </tr>\n",
       "    <tr>\n",
       "      <th>1</th>\n",
       "      <td>4738862.5</td>\n",
       "      <td>311617.5</td>\n",
       "      <td>794.77</td>\n",
       "      <td>18.441340</td>\n",
       "      <td>307.93506</td>\n",
       "      <td>-0.117006</td>\n",
       "      <td>-0.044545</td>\n",
       "      <td>2.352183</td>\n",
       "      <td>6.514342</td>\n",
       "      <td>2.0</td>\n",
       "      <td>3.0</td>\n",
       "      <td>0.5</td>\n",
       "      <td>49.0</td>\n",
       "      <td>0.0000</td>\n",
       "      <td>0.0000</td>\n",
       "      <td>1.0000</td>\n",
       "      <td>1.0</td>\n",
       "    </tr>\n",
       "    <tr>\n",
       "      <th>2</th>\n",
       "      <td>4738697.5</td>\n",
       "      <td>319872.5</td>\n",
       "      <td>1709.36</td>\n",
       "      <td>43.968290</td>\n",
       "      <td>173.81042</td>\n",
       "      <td>0.000644</td>\n",
       "      <td>0.018706</td>\n",
       "      <td>2.889302</td>\n",
       "      <td>6.688886</td>\n",
       "      <td>8.0</td>\n",
       "      <td>1.0</td>\n",
       "      <td>0.5</td>\n",
       "      <td>70.0</td>\n",
       "      <td>0.8803</td>\n",
       "      <td>0.3543</td>\n",
       "      <td>0.1197</td>\n",
       "      <td>1.0</td>\n",
       "    </tr>\n",
       "    <tr>\n",
       "      <th>3</th>\n",
       "      <td>4737832.5</td>\n",
       "      <td>318912.5</td>\n",
       "      <td>1285.22</td>\n",
       "      <td>47.644943</td>\n",
       "      <td>194.89754</td>\n",
       "      <td>0.076285</td>\n",
       "      <td>0.069331</td>\n",
       "      <td>0.000000</td>\n",
       "      <td>-11.605381</td>\n",
       "      <td>8.0</td>\n",
       "      <td>1.0</td>\n",
       "      <td>0.5</td>\n",
       "      <td>69.0</td>\n",
       "      <td>0.6894</td>\n",
       "      <td>0.5387</td>\n",
       "      <td>0.1381</td>\n",
       "      <td>1.0</td>\n",
       "    </tr>\n",
       "    <tr>\n",
       "      <th>4</th>\n",
       "      <td>4737377.5</td>\n",
       "      <td>317017.5</td>\n",
       "      <td>1734.32</td>\n",
       "      <td>39.489166</td>\n",
       "      <td>182.85223</td>\n",
       "      <td>-0.000287</td>\n",
       "      <td>-0.003942</td>\n",
       "      <td>3.122216</td>\n",
       "      <td>7.382731</td>\n",
       "      <td>8.0</td>\n",
       "      <td>1.0</td>\n",
       "      <td>0.5</td>\n",
       "      <td>67.0</td>\n",
       "      <td>0.6695</td>\n",
       "      <td>0.0711</td>\n",
       "      <td>0.3305</td>\n",
       "      <td>1.0</td>\n",
       "    </tr>\n",
       "  </tbody>\n",
       "</table>\n",
       "</div>"
      ],
      "text/plain": [
       "         lat      long  elevation      slope     aspect  curv_plan  curv_prof  \\\n",
       "0  4738872.5  311597.5     790.80  13.145604  327.05750   0.025769  -0.010359   \n",
       "1  4738862.5  311617.5     794.77  18.441340  307.93506  -0.117006  -0.044545   \n",
       "2  4738697.5  319872.5    1709.36  43.968290  173.81042   0.000644   0.018706   \n",
       "3  4737832.5  318912.5    1285.22  47.644943  194.89754   0.076285   0.069331   \n",
       "4  4737377.5  317017.5    1734.32  39.489166  182.85223  -0.000287  -0.003942   \n",
       "\n",
       "       facc        twi  soil  lulc  rain_ant  rain_event  pof_event  pof_dry  \\\n",
       "0  1.397940   4.673251   2.0   3.0       0.5        49.0     0.0000   0.0000   \n",
       "1  2.352183   6.514342   2.0   3.0       0.5        49.0     0.0000   0.0000   \n",
       "2  2.889302   6.688886   8.0   1.0       0.5        70.0     0.8803   0.3543   \n",
       "3  0.000000 -11.605381   8.0   1.0       0.5        69.0     0.6894   0.5387   \n",
       "4  3.122216   7.382731   8.0   1.0       0.5        67.0     0.6695   0.0711   \n",
       "\n",
       "   pof_sat  response  \n",
       "0   1.0000       1.0  \n",
       "1   1.0000       1.0  \n",
       "2   0.1197       1.0  \n",
       "3   0.1381       1.0  \n",
       "4   0.3305       1.0  "
      ]
     },
     "execution_count": 76,
     "metadata": {},
     "output_type": "execute_result"
    }
   ],
   "source": [
    "#Import Packages\n",
    "import os\n",
    "import pandas as pd\n",
    "import numpy as np\n",
    "import matplotlib.pyplot as plt\n",
    "\n",
    "#Change Working Directory\n",
    "os.chdir(r'C:\\Users\\malva\\Thesis')\n",
    "\n",
    "#Read data file\n",
    "data = pd.read_csv('Files\\Samples\\ValdAran_Sample.csv')\n",
    "data.head()"
   ]
  },
  {
   "cell_type": "code",
   "execution_count": 2,
   "metadata": {},
   "outputs": [
    {
     "name": "stdout",
     "output_type": "stream",
     "text": [
      "Soil: [1.0, 2.0, 3.0, 4.0, 5.0, 6.0, 7.0, 8.0, 9.0, 10.0, 11.0]\n",
      "LULC: [1.0, 2.0, 3.0, 4.0, 5.0, 6.0, 8.0, 9.0]\n"
     ]
    }
   ],
   "source": [
    "print('Soil: ' + str(sorted(data['soil'].unique())))\n",
    "print('LULC: ' + str(sorted(data['lulc'].unique())))"
   ]
  },
  {
   "cell_type": "code",
   "execution_count": 3,
   "metadata": {},
   "outputs": [],
   "source": [
    "#Encoding Categorical with Pandas\n",
    "X = pd.get_dummies(data, columns = ['soil', 'lulc'])\n",
    "X = X.drop(columns=['lat', 'long', 'elevation', 'response'])"
   ]
  },
  {
   "cell_type": "code",
   "execution_count": 4,
   "metadata": {},
   "outputs": [
    {
     "data": {
      "text/plain": [
       "Index(['aspect', 'curv_plan', 'curv_prof', 'facc', 'lulc_1.0', 'lulc_10.0',\n",
       "       'lulc_2.0', 'lulc_3.0', 'lulc_4.0', 'lulc_5.0', 'lulc_6.0', 'lulc_7.0',\n",
       "       'lulc_8.0', 'lulc_9.0', 'pof_dry', 'pof_event', 'pof_sat', 'rain_ant',\n",
       "       'rain_event', 'slope', 'soil_1.0', 'soil_10.0', 'soil_11.0', 'soil_2.0',\n",
       "       'soil_3.0', 'soil_4.0', 'soil_5.0', 'soil_6.0', 'soil_7.0', 'soil_8.0',\n",
       "       'soil_9.0', 'twi'],\n",
       "      dtype='object')"
      ]
     },
     "execution_count": 4,
     "metadata": {},
     "output_type": "execute_result"
    }
   ],
   "source": [
    "#Complete missing columns\n",
    "X['lulc_7.0'] = 0\n",
    "X['lulc_10.0'] = 0\n",
    "X.sort_index(axis=1, inplace=True)\n",
    "X.columns"
   ]
  },
  {
   "cell_type": "code",
   "execution_count": 5,
   "metadata": {},
   "outputs": [],
   "source": [
    "#Create inputs and outputs for the data-driven model\n",
    "y = data['response'].values"
   ]
  },
  {
   "cell_type": "code",
   "execution_count": 6,
   "metadata": {},
   "outputs": [],
   "source": [
    "# Split X and y into training and testing sets\n",
    "from sklearn.model_selection import train_test_split\n",
    "X_train, X_test, y_train, y_test = train_test_split(X, y, random_state=0)"
   ]
  },
  {
   "cell_type": "code",
   "execution_count": 7,
   "metadata": {},
   "outputs": [],
   "source": [
    "improvement_norain = pd.DataFrame(columns=['AUC ROC', 'Accuracy', 'FPR', 'FNR', 'MCC'])\n",
    "improvement_rain = pd.DataFrame(columns=['AUC ROC', 'Accuracy', 'FPR', 'FNR', 'MCC'])"
   ]
  },
  {
   "cell_type": "code",
   "execution_count": 66,
   "metadata": {},
   "outputs": [],
   "source": [
    "parameters_norain = ['rain_ant', 'rain_event']\n",
    "parameters_rain = []"
   ]
  },
  {
   "cell_type": "code",
   "execution_count": 67,
   "metadata": {},
   "outputs": [
    {
     "name": "stdout",
     "output_type": "stream",
     "text": [
      "Best Score: 0.7988835946864259\n",
      "Best Parameters: {'C': 0.23357214690901212, 'max_iter': 2500, 'penalty': 'l2', 'solver': 'liblinear'}\n"
     ]
    }
   ],
   "source": [
    "#Logistic Regression with Cross-validation (5-fold) and parameter optimization\n",
    "#No Rainfall\n",
    "\n",
    "from sklearn.linear_model import LogisticRegression\n",
    "from sklearn.model_selection import GridSearchCV \n",
    "\n",
    "logreg_norain = LogisticRegression()\n",
    "param_grid = {'max_iter' : [2500],\n",
    "              'penalty' : ['l1', 'l2'],\n",
    "              'C' : np.logspace(-4, 4, 20),\n",
    "              'solver' : ['liblinear']}\n",
    "clf_norain = GridSearchCV(logreg_norain, param_grid = param_grid, scoring = 'roc_auc', n_jobs = -1, cv = 5)\n",
    "best_logreg_norain = clf_norain.fit(X_train.drop(columns=parameters_norain), y_train)\n",
    "\n",
    "results_norain = pd.DataFrame(clf_norain.cv_results_)\n",
    "print('Best Score: ' + str(best_logreg_norain.best_score_))\n",
    "print('Best Parameters: ' + str(best_logreg_norain.best_params_))"
   ]
  },
  {
   "cell_type": "code",
   "execution_count": 68,
   "metadata": {},
   "outputs": [
    {
     "name": "stdout",
     "output_type": "stream",
     "text": [
      "Best Score: 0.8061813390920168\n",
      "Best Parameters: {'C': 0.615848211066026, 'max_iter': 2500, 'penalty': 'l2', 'solver': 'liblinear'}\n"
     ]
    }
   ],
   "source": [
    "#Logistic Regression with Cross-validation (5-fold) and parameter optimization\n",
    "#Rainfall\n",
    "\n",
    "logreg_rain = LogisticRegression()\n",
    "clf_rain = GridSearchCV(logreg_rain, param_grid = param_grid, scoring = 'roc_auc', n_jobs = -1, cv = 5)\n",
    "best_logreg_rain = clf_rain.fit(X_train.drop(columns=parameters_rain), y_train)\n",
    "\n",
    "results_rain = pd.DataFrame(clf_rain.cv_results_)\n",
    "print('Best Score: ' + str(best_logreg_rain.best_score_))\n",
    "print('Best Parameters: ' + str(best_logreg_rain.best_params_))"
   ]
  },
  {
   "cell_type": "code",
   "execution_count": 69,
   "metadata": {},
   "outputs": [],
   "source": [
    "from sklearn import metrics\n",
    "from sklearn.metrics import roc_curve, auc\n",
    "\n",
    "#Logistic Regression\n",
    "\n",
    "#No Rainfall\n",
    "y_pred_prob_norain = best_logreg_norain.predict_proba(X_test.drop(columns=parameters_norain))[:, 1]\n",
    "\n",
    "fpr_norain, tpr_norain, thresholds_norain = metrics.roc_curve(y_test, y_pred_prob_norain)\n",
    "auc_norain = metrics.roc_auc_score(y_test, y_pred_prob_norain)\n",
    "\n",
    "#Rainfall\n",
    "y_pred_prob_rain = best_logreg_rain.predict_proba(X_test.drop(columns=parameters_rain))[:, 1]\n",
    "\n",
    "fpr_rain, tpr_rain, thresholds_rain = metrics.roc_curve(y_test, y_pred_prob_rain)\n",
    "auc_rain = metrics.roc_auc_score(y_test, y_pred_prob_rain)"
   ]
  },
  {
   "cell_type": "code",
   "execution_count": 70,
   "metadata": {},
   "outputs": [],
   "source": [
    "from sklearn.metrics import confusion_matrix, accuracy_score, recall_score, matthews_corrcoef\n",
    "\n",
    "#No Rain\n",
    "y_pred_norain = best_logreg_norain.predict(X_test.drop(columns=parameters_norain))\n",
    "matrix_norain = confusion_matrix(y_test, y_pred_norain)\n",
    "acc_norain = accuracy_score(y_test, y_pred_norain)\n",
    "FP = matrix_norain[0,1]\n",
    "TN = matrix_norain[0,0]\n",
    "fpr_norain = FP/(FP+TN)\n",
    "fnr_norain = 1 - recall_score(y_test, y_pred_norain)\n",
    "mcc_norain = matthews_corrcoef(y_test, y_pred_norain)\n",
    "stats_norain = '\\n\\nAccuracy = {:0.3f}\\nFPR = {:0.3f}\\nFNR = {:0.3f}\\nMCC = {:0.3f}'.format(acc_norain, fpr_norain, fnr_norain, mcc_norain)\n",
    "\n",
    "\n",
    "#No Rain\n",
    "y_pred_rain = best_logreg_rain.predict(X_test.drop(columns=parameters_rain))\n",
    "matrix_rain = confusion_matrix(y_test, y_pred_rain)\n",
    "acc_rain = accuracy_score(y_test, y_pred_rain)\n",
    "FP = matrix_rain[0,1]\n",
    "TN = matrix_rain[0,0]\n",
    "fpr_rain = FP/(FP+TN)\n",
    "fnr_rain = 1 - recall_score(y_test, y_pred_rain)\n",
    "mcc_rain = matthews_corrcoef(y_test, y_pred_rain)\n",
    "stats_rain = '\\n\\nAccuracy = {:0.3f}\\nFPR = {:0.3f}\\nFNR = {:0.3f}\\nMCC = {:0.3f}'.format(acc_rain, fpr_rain, fnr_rain, mcc_rain)"
   ]
  },
  {
   "cell_type": "code",
   "execution_count": 71,
   "metadata": {},
   "outputs": [],
   "source": [
    "#Append Results\n",
    "\n",
    "#No Rain\n",
    "model_norain = 'No Rain + PoF_Dry + PoF_Event + PoF_Sat'\n",
    "improvement_norain.loc[model_norain] = [auc_norain, acc_norain, fpr_norain, fnr_norain, mcc_norain]\n",
    "\n",
    "#Rain\n",
    "model_rain = 'Rain + PoF_Dry + PoF_Event + PoF_Sat'\n",
    "improvement_rain.loc[model_rain] = [auc_rain, acc_rain, fpr_rain, fnr_rain, mcc_rain]"
   ]
  },
  {
   "cell_type": "code",
   "execution_count": 87,
   "metadata": {},
   "outputs": [
    {
     "name": "stdout",
     "output_type": "stream",
     "text": [
      "\\begin{tabular}{lrrrrr}\n",
      "\\toprule\n",
      "{} &  AUC ROC &  Accuracy &    FPR &   FNR &    MCC \\\\\n",
      "\\midrule\n",
      "No Rain                                 &    0.806 &     0.770 &  0.292 &  0.17 &  0.543 \\\\\n",
      "No Rain + PoF\\_Dry                       &    0.806 &     0.770 &  0.292 &  0.17 &  0.543 \\\\\n",
      "No Rain + PoF\\_Event                     &    0.818 &     0.750 &  0.271 &  0.23 &  0.500 \\\\\n",
      "No Rain + PoF\\_Sat                       &    0.824 &     0.735 &  0.312 &  0.22 &  0.470 \\\\\n",
      "No Rain + PoF\\_Dry + PoF\\_Event           &    0.819 &     0.750 &  0.271 &  0.23 &  0.500 \\\\\n",
      "No Rain + PoF\\_Dry + PoF\\_Sat             &    0.824 &     0.735 &  0.312 &  0.22 &  0.470 \\\\\n",
      "No Rain + PoF\\_Event + PoF\\_Sat           &    0.820 &     0.719 &  0.302 &  0.26 &  0.438 \\\\\n",
      "No Rain + PoF\\_Dry + PoF\\_Event + PoF\\_Sat &    0.823 &     0.730 &  0.302 &  0.24 &  0.459 \\\\\n",
      "\\bottomrule\n",
      "\\end{tabular}\n",
      "\n"
     ]
    }
   ],
   "source": [
    "print(improvement_norain.round(3).to_latex())"
   ]
  },
  {
   "cell_type": "code",
   "execution_count": 86,
   "metadata": {},
   "outputs": [
    {
     "name": "stdout",
     "output_type": "stream",
     "text": [
      "\\begin{tabular}{lrrrrr}\n",
      "\\toprule\n",
      "{} &  AUC ROC &  Accuracy &    FPR &   FNR &    MCC \\\\\n",
      "\\midrule\n",
      "Rain                                 &    0.800 &     0.740 &  0.292 &  0.23 &  0.479 \\\\\n",
      "Rain + PoF\\_Dry                       &    0.807 &     0.730 &  0.312 &  0.23 &  0.459 \\\\\n",
      "Rain + PoF\\_Event                     &    0.807 &     0.724 &  0.260 &  0.29 &  0.450 \\\\\n",
      "Rain + PoF\\_Sat                       &    0.823 &     0.740 &  0.302 &  0.22 &  0.480 \\\\\n",
      "Rain + PoF\\_Dry + PoF\\_Event           &    0.810 &     0.709 &  0.292 &  0.29 &  0.418 \\\\\n",
      "Rain + PoF\\_Dry + PoF\\_Sat             &    0.826 &     0.745 &  0.292 &  0.22 &  0.490 \\\\\n",
      "Rain + PoF\\_Event + PoF\\_Sat           &    0.822 &     0.724 &  0.281 &  0.27 &  0.449 \\\\\n",
      "Rain + PoF\\_Dry + PoF\\_Event + PoF\\_Sat &    0.824 &     0.745 &  0.271 &  0.24 &  0.489 \\\\\n",
      "\\bottomrule\n",
      "\\end{tabular}\n",
      "\n"
     ]
    }
   ],
   "source": [
    "print(improvement_rain.round(3).to_latex())"
   ]
  },
  {
   "cell_type": "code",
   "execution_count": 83,
   "metadata": {},
   "outputs": [
    {
     "data": {
      "text/plain": [
       "(0.7, 0.78)"
      ]
     },
     "execution_count": 83,
     "metadata": {},
     "output_type": "execute_result"
    },
    {
     "data": {
      "image/png": "[encoded data removed]",
      "text/plain": [
       "<Figure size 432x288 with 1 Axes>"
      ]
     },
     "metadata": {
      "needs_background": "light"
     },
     "output_type": "display_data"
    }
   ],
   "source": [
    "improvement_norain['Accuracy'].plot(kind='bar')\n",
    "plt.ylim(0.70, 0.78)"
   ]
  },
  {
   "cell_type": "code",
   "execution_count": null,
   "metadata": {},
   "outputs": [],
   "source": []
  }
 ],
 "metadata": {
  "kernelspec": {
   "display_name": "Python 3",
   "language": "python",
   "name": "python3"
  },
  "language_info": {
   "codemirror_mode": {
    "name": "ipython",
    "version": 3
   },
   "file_extension": ".py",
   "mimetype": "text/x-python",
   "name": "python",
   "nbconvert_exporter": "python",
   "pygments_lexer": "ipython3",
   "version": "3.8.10"
  }
 },
 "nbformat": 4,
 "nbformat_minor": 4
}
