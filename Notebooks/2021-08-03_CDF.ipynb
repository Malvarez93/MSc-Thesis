{
 "cells": [
  {
   "cell_type": "code",
   "execution_count": 1,
   "metadata": {},
   "outputs": [],
   "source": [
    "#Import Packages\n",
    "import os\n",
    "import pandas as pd\n",
    "import numpy as np\n",
    "import rasterio as rio\n",
    "\n",
    "#Change Working Directory\n",
    "\n",
    "#FSLAM\n",
    "os.chdir(r'C:\\Users\\malva\\Thesis\\GIS\\Layers\\Raster\\ValdAran')\n",
    "fslam_dry = rio.open(\"PROB_uncond_unst.asc\")\n",
    "fslam_event = rio.open(\"PROB_failure_final_cond.asc\")\n",
    "\n",
    "#LR\n",
    "os.chdir(r'C:\\Users\\malva\\Thesis\\Files\\Results')\n",
    "lr_norain = rio.open(\"logreg_norain_prob.tif\")\n",
    "lr_rain = rio.open(\"logreg_rain_prob.tif\")"
   ]
  },
  {
   "cell_type": "code",
   "execution_count": 3,
   "metadata": {},
   "outputs": [
    {
     "name": "stdout",
     "output_type": "stream",
     "text": [
      "Wall time: 25.4 s\n"
     ]
    }
   ],
   "source": [
    "%%time\n",
    "#Convert Rasters to 2D Arrays\n",
    "fslam_dry_arr = fslam_dry.read(1)\n",
    "fslam_event_arr = fslam_event.read(1)\n",
    "lr_norain_arr = lr_norain.read(1)\n",
    "lr_rain = lr_rain.read(1)"
   ]
  },
  {
   "cell_type": "code",
   "execution_count": 6,
   "metadata": {},
   "outputs": [],
   "source": [
    "#Create Data Frame <- 2D Arrays have to transformed to 1D\n",
    "df_lr = pd.DataFrame()\n",
    "df_fslam = pd.DataFrame()\n",
    "\n",
    "df_lr['norain'] = lr_norain_arr.ravel()\n",
    "df_lr['rain'] = lr_rain.ravel()\n",
    "df_fslam['dry'] = fslam_dry_arr.ravel()\n",
    "df_fslam['event'] = fslam_event_arr.ravel()"
   ]
  },
  {
   "cell_type": "code",
   "execution_count": 7,
   "metadata": {},
   "outputs": [
    {
     "data": {
      "text/html": [
       "<div>\n",
       "<style scoped>\n",
       "    .dataframe tbody tr th:only-of-type {\n",
       "        vertical-align: middle;\n",
       "    }\n",
       "\n",
       "    .dataframe tbody tr th {\n",
       "        vertical-align: top;\n",
       "    }\n",
       "\n",
       "    .dataframe thead th {\n",
       "        text-align: right;\n",
       "    }\n",
       "</style>\n",
       "<table border=\"1\" class=\"dataframe\">\n",
       "  <thead>\n",
       "    <tr style=\"text-align: right;\">\n",
       "      <th></th>\n",
       "      <th>norain</th>\n",
       "      <th>rain</th>\n",
       "    </tr>\n",
       "  </thead>\n",
       "  <tbody>\n",
       "    <tr>\n",
       "      <th>0</th>\n",
       "      <td>0.588890</td>\n",
       "      <td>0.590891</td>\n",
       "    </tr>\n",
       "    <tr>\n",
       "      <th>1</th>\n",
       "      <td>0.231596</td>\n",
       "      <td>0.156858</td>\n",
       "    </tr>\n",
       "    <tr>\n",
       "      <th>2</th>\n",
       "      <td>0.229225</td>\n",
       "      <td>0.154556</td>\n",
       "    </tr>\n",
       "    <tr>\n",
       "      <th>3</th>\n",
       "      <td>0.227920</td>\n",
       "      <td>0.153494</td>\n",
       "    </tr>\n",
       "    <tr>\n",
       "      <th>4</th>\n",
       "      <td>0.239951</td>\n",
       "      <td>0.168941</td>\n",
       "    </tr>\n",
       "  </tbody>\n",
       "</table>\n",
       "</div>"
      ],
      "text/plain": [
       "     norain      rain\n",
       "0  0.588890  0.590891\n",
       "1  0.231596  0.156858\n",
       "2  0.229225  0.154556\n",
       "3  0.227920  0.153494\n",
       "4  0.239951  0.168941"
      ]
     },
     "execution_count": 7,
     "metadata": {},
     "output_type": "execute_result"
    }
   ],
   "source": [
    "df_lr.head()"
   ]
  },
  {
   "cell_type": "code",
   "execution_count": 23,
   "metadata": {},
   "outputs": [],
   "source": [
    "#Histograms\n",
    "hist_bins = np.linspace(0, 1, 21)\n",
    "np_bins = np.concatenate((np.array([0]), np.linspace(0.025, 0.975, 20), np.array([1])), axis=None)\n",
    "\n",
    "count_fslam_dry = np.histogram(df_fslam['dry'], bins = np_bins)[0]\n",
    "count_fslam_event = np.histogram(df_fslam['event'], bins = np_bins)[0]\n",
    "count_lr_norain = np.histogram(df_lr['norain'], bins = np_bins)[0]\n",
    "count_lr_rain = np.histogram(df_lr['rain'], bins = np_bins)[0]\n",
    "\n",
    "sum_count_fslam_dry = np.cumsum(count_fslam_dry/np.sum(count_fslam_dry))\n",
    "sum_count_fslam_event = np.cumsum(count_fslam_event/np.sum(count_fslam_event))\n",
    "sum_count_lr_norain = np.cumsum(count_lr_norain/np.sum(count_lr_norain))\n",
    "sum_count_lr_rain = np.cumsum(count_lr_rain/np.sum(count_lr_rain))"
   ]
  },
  {
   "cell_type": "code",
   "execution_count": 33,
   "metadata": {},
   "outputs": [
    {
     "data": {
      "text/plain": [
       "array([0.4540636 , 0.51829089, 0.5566584 , 0.586284  , 0.61142367,\n",
       "       0.63400596, 0.65454024, 0.67265497, 0.6895333 , 0.70558926,\n",
       "       0.72112424, 0.73575819, 0.75017955, 0.76432463, 0.77806791,\n",
       "       0.79135928, 0.80450214, 0.81852752, 0.83450189, 0.85845511,\n",
       "       1.        ])"
      ]
     },
     "execution_count": 33,
     "metadata": {},
     "output_type": "execute_result"
    }
   ],
   "source": [
    "sum_count_fslam_event"
   ]
  },
  {
   "cell_type": "code",
   "execution_count": 31,
   "metadata": {},
   "outputs": [
    {
     "data": {
      "image/png": "[encoded data removed]",
      "text/plain": [
       "<Figure size 720x270 with 2 Axes>"
      ]
     },
     "metadata": {
      "needs_background": "light"
     },
     "output_type": "display_data"
    }
   ],
   "source": [
    "import matplotlib.pyplot as plt\n",
    "plt.rcParams.update({'font.size': 12})\n",
    "\n",
    "fig, axes = plt.subplots(nrows=1, ncols=2, figsize=(10, 3.75))\n",
    "\n",
    "axes[0].plot(hist_bins, sum_count_fslam_dry*100, marker='o', color='lightcoral', label='FSLAM - Dry')\n",
    "axes[0].plot(hist_bins, sum_count_lr_norain*100, marker='o', color='dodgerblue', label='LR - Dry')\n",
    "axes[0].set_ylim(0,105)\n",
    "axes[0].set_title('Dry')\n",
    "axes[0].set_xlabel('predicted probability')\n",
    "axes[0].set_ylabel('percentage of points/%')\n",
    "axes[0].legend()\n",
    "axes[0].set_xlim([0, 1])\n",
    "axes[1].plot(hist_bins, sum_count_fslam_event*100, marker='o', color='firebrick', label='FSLAM - Event')\n",
    "axes[1].plot(hist_bins, sum_count_lr_rain*100, marker='o', color='mediumblue', label='LR - Event')\n",
    "axes[1].set_ylim(0,105)\n",
    "axes[1].set_title('2013 Event')\n",
    "axes[1].set_xlabel('predicted probability')\n",
    "axes[1].set_ylabel('percentage of points/%')\n",
    "axes[1].legend()\n",
    "axes[1].set_xlim([0, 1])\n",
    "\n",
    "\n",
    "plt.tight_layout()\n",
    "plt.savefig(r'C:\\Users\\malva\\Desktop\\Test\\cdf-map.png', bbox_inches = 'tight', facecolor='white', edgecolor='white', dpi=300)\n",
    "plt.show()"
   ]
  },
  {
   "cell_type": "code",
   "execution_count": null,
   "metadata": {},
   "outputs": [],
   "source": []
  }
 ],
 "metadata": {
  "kernelspec": {
   "display_name": "Python 3",
   "language": "python",
   "name": "python3"
  },
  "language_info": {
   "codemirror_mode": {
    "name": "ipython",
    "version": 3
   },
   "file_extension": ".py",
   "mimetype": "text/x-python",
   "name": "python",
   "nbconvert_exporter": "python",
   "pygments_lexer": "ipython3",
   "version": "3.8.10"
  }
 },
 "nbformat": 4,
 "nbformat_minor": 4
}
